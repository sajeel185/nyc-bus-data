{
 "cells": [
  {
   "cell_type": "code",
   "execution_count": 1,
   "metadata": {},
   "outputs": [],
   "source": [
    "import pandas as pd\n",
    "import numpy as np\n",
    "import matplotlib.pyplot as plt\n",
    "%matplotlib inline\n",
    "import seaborn as sns\n",
    "from sklearn.naive_bayes import BernoulliNB\n",
    "from sklearn.model_selection import train_test_split\n",
    "from sklearn.metrics import confusion_matrix\n",
    "from sklearn.neighbors import KNeighborsClassifier\n",
    "from scipy import stats\n",
    "from sklearn.model_selection import cross_val_score\n",
    "from sklearn.model_selection import GridSearchCV\n",
    "from sklearn import ensemble\n",
    "from sklearn import tree\n",
    "from sklearn.linear_model import LogisticRegression\n",
    "from sklearn import metrics\n",
    "from sklearn.metrics import classification_report\n",
    "from sklearn.metrics import roc_curve\n",
    "from sklearn.metrics import roc_auc_score\n",
    "import datetime\n"
   ]
  },
  {
   "cell_type": "code",
   "execution_count": 2,
   "metadata": {},
   "outputs": [
    {
     "name": "stderr",
     "output_type": "stream",
     "text": [
      "C:\\Users\\sajee\\AppData\\Local\\Continuum\\anaconda3\\lib\\site-packages\\IPython\\core\\interactiveshell.py:3020: DtypeWarning: Columns (14,17) have mixed types. Specify dtype option on import or set low_memory=False.\n",
      "  interactivity=interactivity, compiler=compiler, result=result)\n"
     ]
    },
    {
     "data": {
      "text/html": [
       "<div>\n",
       "<style scoped>\n",
       "    .dataframe tbody tr th:only-of-type {\n",
       "        vertical-align: middle;\n",
       "    }\n",
       "\n",
       "    .dataframe tbody tr th {\n",
       "        vertical-align: top;\n",
       "    }\n",
       "\n",
       "    .dataframe thead th {\n",
       "        text-align: right;\n",
       "    }\n",
       "</style>\n",
       "<table border=\"1\" class=\"dataframe\">\n",
       "  <thead>\n",
       "    <tr style=\"text-align: right;\">\n",
       "      <th></th>\n",
       "      <th>RecordedAtTime</th>\n",
       "      <th>DirectionRef</th>\n",
       "      <th>PublishedLineName</th>\n",
       "      <th>OriginName</th>\n",
       "      <th>OriginLat</th>\n",
       "      <th>OriginLong</th>\n",
       "      <th>DestinationName</th>\n",
       "      <th>DestinationLat</th>\n",
       "      <th>DestinationLong</th>\n",
       "      <th>VehicleRef</th>\n",
       "      <th>VehicleLocation.Latitude</th>\n",
       "      <th>VehicleLocation.Longitude</th>\n",
       "      <th>NextStopPointName</th>\n",
       "      <th>ArrivalProximityText</th>\n",
       "      <th>DistanceFromStop</th>\n",
       "      <th>ExpectedArrivalTime</th>\n",
       "      <th>ScheduledArrivalTime</th>\n",
       "      <th>Unnamed: 17</th>\n",
       "    </tr>\n",
       "  </thead>\n",
       "  <tbody>\n",
       "    <tr>\n",
       "      <th>0</th>\n",
       "      <td>6/1/2017 0:03</td>\n",
       "      <td>0</td>\n",
       "      <td>B8</td>\n",
       "      <td>4 AV/95 ST</td>\n",
       "      <td>40.616104</td>\n",
       "      <td>-74.031143</td>\n",
       "      <td>BROWNSVILLE ROCKAWAY AV</td>\n",
       "      <td>40.656048</td>\n",
       "      <td>-73.907379</td>\n",
       "      <td>NYCT_430</td>\n",
       "      <td>40.635170</td>\n",
       "      <td>-73.960803</td>\n",
       "      <td>FOSTER AV/E 18 ST</td>\n",
       "      <td>approaching</td>\n",
       "      <td>76</td>\n",
       "      <td>6/1/2017 0:03</td>\n",
       "      <td>24:06:14</td>\n",
       "      <td>NaN</td>\n",
       "    </tr>\n",
       "    <tr>\n",
       "      <th>1</th>\n",
       "      <td>6/1/2017 0:03</td>\n",
       "      <td>1</td>\n",
       "      <td>S61</td>\n",
       "      <td>ST GEORGE FERRY/S61 &amp; S91</td>\n",
       "      <td>40.643169</td>\n",
       "      <td>-74.073494</td>\n",
       "      <td>S I MALL YUKON AV</td>\n",
       "      <td>40.575935</td>\n",
       "      <td>-74.167686</td>\n",
       "      <td>NYCT_8263</td>\n",
       "      <td>40.590802</td>\n",
       "      <td>-74.158340</td>\n",
       "      <td>MERRYMOUNT ST/TRAVIS AV</td>\n",
       "      <td>approaching</td>\n",
       "      <td>62</td>\n",
       "      <td>6/1/2017 0:03</td>\n",
       "      <td>23:58:02</td>\n",
       "      <td>NaN</td>\n",
       "    </tr>\n",
       "    <tr>\n",
       "      <th>2</th>\n",
       "      <td>6/1/2017 0:03</td>\n",
       "      <td>0</td>\n",
       "      <td>Bx10</td>\n",
       "      <td>E 206 ST/BAINBRIDGE AV</td>\n",
       "      <td>40.875008</td>\n",
       "      <td>-73.880142</td>\n",
       "      <td>RIVERDALE 263 ST</td>\n",
       "      <td>40.912376</td>\n",
       "      <td>-73.902534</td>\n",
       "      <td>NYCT_4223</td>\n",
       "      <td>40.886010</td>\n",
       "      <td>-73.912647</td>\n",
       "      <td>HENRY HUDSON PKY E/W 235 ST</td>\n",
       "      <td>at stop</td>\n",
       "      <td>5</td>\n",
       "      <td>6/1/2017 0:03</td>\n",
       "      <td>24:00:53</td>\n",
       "      <td>NaN</td>\n",
       "    </tr>\n",
       "    <tr>\n",
       "      <th>3</th>\n",
       "      <td>6/1/2017 0:03</td>\n",
       "      <td>0</td>\n",
       "      <td>Q5</td>\n",
       "      <td>TEARDROP/LAYOVER</td>\n",
       "      <td>40.701748</td>\n",
       "      <td>-73.802399</td>\n",
       "      <td>ROSEDALE LIRR STA via MERRICK</td>\n",
       "      <td>40.666012</td>\n",
       "      <td>-73.735939</td>\n",
       "      <td>NYCT_8422</td>\n",
       "      <td>40.668002</td>\n",
       "      <td>-73.729348</td>\n",
       "      <td>HOOK CREEK BL/SUNRISE HY</td>\n",
       "      <td>&lt; 1 stop away</td>\n",
       "      <td>267</td>\n",
       "      <td>6/1/2017 0:04</td>\n",
       "      <td>24:03:00</td>\n",
       "      <td>NaN</td>\n",
       "    </tr>\n",
       "    <tr>\n",
       "      <th>4</th>\n",
       "      <td>6/1/2017 0:03</td>\n",
       "      <td>1</td>\n",
       "      <td>Bx1</td>\n",
       "      <td>RIVERDALE AV/W 231 ST</td>\n",
       "      <td>40.881187</td>\n",
       "      <td>-73.909340</td>\n",
       "      <td>MOTT HAVEN 136 ST via CONCOURSE</td>\n",
       "      <td>40.809654</td>\n",
       "      <td>-73.928360</td>\n",
       "      <td>NYCT_4710</td>\n",
       "      <td>40.868134</td>\n",
       "      <td>-73.893032</td>\n",
       "      <td>GRAND CONCOURSE/E 196 ST</td>\n",
       "      <td>at stop</td>\n",
       "      <td>11</td>\n",
       "      <td>6/1/2017 0:03</td>\n",
       "      <td>23:59:38</td>\n",
       "      <td>NaN</td>\n",
       "    </tr>\n",
       "  </tbody>\n",
       "</table>\n",
       "</div>"
      ],
      "text/plain": [
       "  RecordedAtTime  DirectionRef PublishedLineName                 OriginName  \\\n",
       "0  6/1/2017 0:03             0                B8                 4 AV/95 ST   \n",
       "1  6/1/2017 0:03             1               S61  ST GEORGE FERRY/S61 & S91   \n",
       "2  6/1/2017 0:03             0              Bx10     E 206 ST/BAINBRIDGE AV   \n",
       "3  6/1/2017 0:03             0                Q5           TEARDROP/LAYOVER   \n",
       "4  6/1/2017 0:03             1               Bx1      RIVERDALE AV/W 231 ST   \n",
       "\n",
       "   OriginLat  OriginLong                  DestinationName  DestinationLat  \\\n",
       "0  40.616104  -74.031143          BROWNSVILLE ROCKAWAY AV       40.656048   \n",
       "1  40.643169  -74.073494                S I MALL YUKON AV       40.575935   \n",
       "2  40.875008  -73.880142                 RIVERDALE 263 ST       40.912376   \n",
       "3  40.701748  -73.802399    ROSEDALE LIRR STA via MERRICK       40.666012   \n",
       "4  40.881187  -73.909340  MOTT HAVEN 136 ST via CONCOURSE       40.809654   \n",
       "\n",
       "   DestinationLong VehicleRef  VehicleLocation.Latitude  \\\n",
       "0       -73.907379   NYCT_430                 40.635170   \n",
       "1       -74.167686  NYCT_8263                 40.590802   \n",
       "2       -73.902534  NYCT_4223                 40.886010   \n",
       "3       -73.735939  NYCT_8422                 40.668002   \n",
       "4       -73.928360  NYCT_4710                 40.868134   \n",
       "\n",
       "   VehicleLocation.Longitude            NextStopPointName  \\\n",
       "0                 -73.960803            FOSTER AV/E 18 ST   \n",
       "1                 -74.158340      MERRYMOUNT ST/TRAVIS AV   \n",
       "2                 -73.912647  HENRY HUDSON PKY E/W 235 ST   \n",
       "3                 -73.729348     HOOK CREEK BL/SUNRISE HY   \n",
       "4                 -73.893032     GRAND CONCOURSE/E 196 ST   \n",
       "\n",
       "  ArrivalProximityText DistanceFromStop ExpectedArrivalTime  \\\n",
       "0          approaching               76       6/1/2017 0:03   \n",
       "1          approaching               62       6/1/2017 0:03   \n",
       "2              at stop                5       6/1/2017 0:03   \n",
       "3        < 1 stop away              267       6/1/2017 0:04   \n",
       "4              at stop               11       6/1/2017 0:03   \n",
       "\n",
       "  ScheduledArrivalTime Unnamed: 17  \n",
       "0             24:06:14         NaN  \n",
       "1             23:58:02         NaN  \n",
       "2             24:00:53         NaN  \n",
       "3             24:03:00         NaN  \n",
       "4             23:59:38         NaN  "
      ]
     },
     "execution_count": 2,
     "metadata": {},
     "output_type": "execute_result"
    }
   ],
   "source": [
    "df = pd.read_csv('nyc bus data.csv')\n",
    "df = df.drop_duplicates()\n",
    "# = df.dropna()\n",
    "df.head()"
   ]
  },
  {
   "cell_type": "code",
   "execution_count": 3,
   "metadata": {},
   "outputs": [
    {
     "data": {
      "text/plain": [
       "(1048575, 18)"
      ]
     },
     "execution_count": 3,
     "metadata": {},
     "output_type": "execute_result"
    }
   ],
   "source": [
    "df.shape"
   ]
  },
  {
   "cell_type": "code",
   "execution_count": 4,
   "metadata": {},
   "outputs": [
    {
     "data": {
      "text/plain": [
       "(100000, 18)"
      ]
     },
     "execution_count": 4,
     "metadata": {},
     "output_type": "execute_result"
    }
   ],
   "source": [
    "#subset the dataframe to include only the first 100,000 rows, or observations.\n",
    "df = df.iloc[:100000, :]\n",
    "df.shape"
   ]
  },
  {
   "cell_type": "code",
   "execution_count": 5,
   "metadata": {},
   "outputs": [
    {
     "name": "stdout",
     "output_type": "stream",
     "text": [
      "<class 'pandas.core.frame.DataFrame'>\n",
      "Int64Index: 100000 entries, 0 to 99999\n",
      "Data columns (total 18 columns):\n",
      "RecordedAtTime               100000 non-null object\n",
      "DirectionRef                 100000 non-null int64\n",
      "PublishedLineName            100000 non-null object\n",
      "OriginName                   100000 non-null object\n",
      "OriginLat                    100000 non-null float64\n",
      "OriginLong                   100000 non-null float64\n",
      "DestinationName              100000 non-null object\n",
      "DestinationLat               100000 non-null float64\n",
      "DestinationLong              100000 non-null float64\n",
      "VehicleRef                   100000 non-null object\n",
      "VehicleLocation.Latitude     100000 non-null float64\n",
      "VehicleLocation.Longitude    100000 non-null float64\n",
      "NextStopPointName            99904 non-null object\n",
      "ArrivalProximityText         99904 non-null object\n",
      "DistanceFromStop             99904 non-null object\n",
      "ExpectedArrivalTime          88630 non-null object\n",
      "ScheduledArrivalTime         98312 non-null object\n",
      "Unnamed: 17                  5 non-null object\n",
      "dtypes: float64(6), int64(1), object(11)\n",
      "memory usage: 14.5+ MB\n"
     ]
    }
   ],
   "source": [
    "#checking for column types and missing data\n",
    "df.info()"
   ]
  },
  {
   "cell_type": "code",
   "execution_count": 6,
   "metadata": {},
   "outputs": [
    {
     "data": {
      "text/plain": [
       "RecordedAtTime                   0\n",
       "DirectionRef                     0\n",
       "PublishedLineName                0\n",
       "OriginName                       0\n",
       "OriginLat                        0\n",
       "OriginLong                       0\n",
       "DestinationName                  0\n",
       "DestinationLat                   0\n",
       "DestinationLong                  0\n",
       "VehicleRef                       0\n",
       "VehicleLocation.Latitude         0\n",
       "VehicleLocation.Longitude        0\n",
       "NextStopPointName               96\n",
       "ArrivalProximityText            96\n",
       "DistanceFromStop                96\n",
       "ExpectedArrivalTime          11370\n",
       "ScheduledArrivalTime          1688\n",
       "Unnamed: 17                  99995\n",
       "dtype: int64"
      ]
     },
     "execution_count": 6,
     "metadata": {},
     "output_type": "execute_result"
    }
   ],
   "source": [
    "df.isnull().sum()"
   ]
  },
  {
   "cell_type": "code",
   "execution_count": 7,
   "metadata": {},
   "outputs": [],
   "source": [
    "#creating new features by converting strings to datetimes\n",
    "df['expected_arrival'] = pd.to_datetime(df['ExpectedArrivalTime'], errors=\"coerce\")\n",
    "df['scheduled_arrival'] = pd.to_datetime(df['ScheduledArrivalTime'], errors=\"coerce\")"
   ]
  },
  {
   "cell_type": "code",
   "execution_count": 8,
   "metadata": {},
   "outputs": [
    {
     "data": {
      "text/plain": [
       "False    88625\n",
       "True     11375\n",
       "Name: expected_arrival, dtype: int64"
      ]
     },
     "execution_count": 8,
     "metadata": {},
     "output_type": "execute_result"
    }
   ],
   "source": [
    "#checking for null values before filling in missing data\n",
    "df['expected_arrival'].isnull().value_counts()"
   ]
  },
  {
   "cell_type": "code",
   "execution_count": 9,
   "metadata": {},
   "outputs": [
    {
     "data": {
      "text/plain": [
       "False    93530\n",
       "True      6470\n",
       "Name: scheduled_arrival, dtype: int64"
      ]
     },
     "execution_count": 9,
     "metadata": {},
     "output_type": "execute_result"
    }
   ],
   "source": [
    "#checking for null values before filling in missing data\n",
    "df['scheduled_arrival'].isnull().value_counts()"
   ]
  },
  {
   "cell_type": "code",
   "execution_count": 10,
   "metadata": {},
   "outputs": [
    {
     "data": {
      "text/plain": [
       "(100000, 20)"
      ]
     },
     "execution_count": 10,
     "metadata": {},
     "output_type": "execute_result"
    }
   ],
   "source": [
    "#re-checking the shape of the data\n",
    "df.shape"
   ]
  },
  {
   "cell_type": "code",
   "execution_count": 11,
   "metadata": {},
   "outputs": [],
   "source": [
    "#filling in missing data \n",
    "df['expected_arrival'].bfill(axis=0, inplace=True)\n",
    "df['scheduled_arrival'].bfill(axis=0, inplace=True)\n",
    "df['DistanceFromStop'].ffill(axis=0, inplace=True)\n",
    "df['ArrivalProximityText'].ffill(axis=0, inplace=True)\n",
    "df['NextStopPointName'].ffill(axis=0, inplace=True)\n",
    "df['ExpectedArrivalTime'].bfill(axis=0, inplace=True)\n",
    "df['ScheduledArrivalTime'].bfill(axis=0, inplace=True)"
   ]
  },
  {
   "cell_type": "code",
   "execution_count": 12,
   "metadata": {},
   "outputs": [
    {
     "name": "stdout",
     "output_type": "stream",
     "text": [
      "<class 'pandas.core.frame.DataFrame'>\n",
      "Int64Index: 100000 entries, 0 to 99999\n",
      "Data columns (total 20 columns):\n",
      "RecordedAtTime               100000 non-null object\n",
      "DirectionRef                 100000 non-null int64\n",
      "PublishedLineName            100000 non-null object\n",
      "OriginName                   100000 non-null object\n",
      "OriginLat                    100000 non-null float64\n",
      "OriginLong                   100000 non-null float64\n",
      "DestinationName              100000 non-null object\n",
      "DestinationLat               100000 non-null float64\n",
      "DestinationLong              100000 non-null float64\n",
      "VehicleRef                   100000 non-null object\n",
      "VehicleLocation.Latitude     100000 non-null float64\n",
      "VehicleLocation.Longitude    100000 non-null float64\n",
      "NextStopPointName            100000 non-null object\n",
      "ArrivalProximityText         100000 non-null object\n",
      "DistanceFromStop             100000 non-null object\n",
      "ExpectedArrivalTime          100000 non-null object\n",
      "ScheduledArrivalTime         100000 non-null object\n",
      "Unnamed: 17                  5 non-null object\n",
      "expected_arrival             100000 non-null datetime64[ns]\n",
      "scheduled_arrival            100000 non-null datetime64[ns]\n",
      "dtypes: datetime64[ns](2), float64(6), int64(1), object(11)\n",
      "memory usage: 16.0+ MB\n"
     ]
    }
   ],
   "source": [
    "df.info()"
   ]
  },
  {
   "cell_type": "code",
   "execution_count": 13,
   "metadata": {},
   "outputs": [
    {
     "name": "stdout",
     "output_type": "stream",
     "text": [
      "0   2017-06-01 00:03:00\n",
      "1   2017-06-01 00:03:00\n",
      "2   2017-06-01 00:03:00\n",
      "3   2017-06-01 00:04:00\n",
      "4   2017-06-01 00:03:00\n",
      "Name: expected_arrival, dtype: datetime64[ns]\n"
     ]
    }
   ],
   "source": [
    "print(df['expected_arrival'].head())"
   ]
  },
  {
   "cell_type": "code",
   "execution_count": 14,
   "metadata": {},
   "outputs": [],
   "source": [
    "#correcting the year value in the two new feature columns\n",
    "df['expected_arrival'] = df['expected_arrival'].apply(lambda t: t.replace(year=2017) if not pd.isnull(t) else pd.NaT)\n",
    "df['scheduled_arrival'] = df['scheduled_arrival'].apply(lambda t: t.replace(year=2017) if not pd.isnull(t) else pd.NaT)\n",
    "\n",
    "#correcting the day value in the new feature columns\n",
    "df['expected_arrival'] = df['expected_arrival'].apply(lambda t: t.replace(day=1) if not pd.isnull(t) else pd.NaT)\n",
    "df['scheduled_arrival'] = df['scheduled_arrival'].apply(lambda t: t.replace(day=1) if not pd.isnull(t) else pd.NaT)\n",
    "\n",
    "df['expected_arrival'] = df['expected_arrival'].apply(lambda t: t.replace(month=6) if not pd.isnull(t) else pd.NaT)\n",
    "df['scheduled_arrival'] = df['scheduled_arrival'].apply(lambda t: t.replace(month=6) if not pd.isnull(t) else pd.NaT)\n",
    "#print(df['expected_arrival'])"
   ]
  },
  {
   "cell_type": "code",
   "execution_count": 15,
   "metadata": {},
   "outputs": [],
   "source": [
    "#create new feature to record the difference between each bus's scheduled arrival time and expected arrival time.\n",
    "df['time_difference'] = df['scheduled_arrival'] - df['expected_arrival']"
   ]
  },
  {
   "cell_type": "code",
   "execution_count": 16,
   "metadata": {},
   "outputs": [
    {
     "data": {
      "text/html": [
       "<div>\n",
       "<style scoped>\n",
       "    .dataframe tbody tr th:only-of-type {\n",
       "        vertical-align: middle;\n",
       "    }\n",
       "\n",
       "    .dataframe tbody tr th {\n",
       "        vertical-align: top;\n",
       "    }\n",
       "\n",
       "    .dataframe thead th {\n",
       "        text-align: right;\n",
       "    }\n",
       "</style>\n",
       "<table border=\"1\" class=\"dataframe\">\n",
       "  <thead>\n",
       "    <tr style=\"text-align: right;\">\n",
       "      <th></th>\n",
       "      <th>RecordedAtTime</th>\n",
       "      <th>DirectionRef</th>\n",
       "      <th>PublishedLineName</th>\n",
       "      <th>OriginName</th>\n",
       "      <th>OriginLat</th>\n",
       "      <th>OriginLong</th>\n",
       "      <th>DestinationName</th>\n",
       "      <th>DestinationLat</th>\n",
       "      <th>DestinationLong</th>\n",
       "      <th>VehicleRef</th>\n",
       "      <th>...</th>\n",
       "      <th>VehicleLocation.Longitude</th>\n",
       "      <th>NextStopPointName</th>\n",
       "      <th>ArrivalProximityText</th>\n",
       "      <th>DistanceFromStop</th>\n",
       "      <th>ExpectedArrivalTime</th>\n",
       "      <th>ScheduledArrivalTime</th>\n",
       "      <th>Unnamed: 17</th>\n",
       "      <th>expected_arrival</th>\n",
       "      <th>scheduled_arrival</th>\n",
       "      <th>time_difference</th>\n",
       "    </tr>\n",
       "  </thead>\n",
       "  <tbody>\n",
       "    <tr>\n",
       "      <th>0</th>\n",
       "      <td>6/1/2017 0:03</td>\n",
       "      <td>0</td>\n",
       "      <td>B8</td>\n",
       "      <td>4 AV/95 ST</td>\n",
       "      <td>40.616104</td>\n",
       "      <td>-74.031143</td>\n",
       "      <td>BROWNSVILLE ROCKAWAY AV</td>\n",
       "      <td>40.656048</td>\n",
       "      <td>-73.907379</td>\n",
       "      <td>NYCT_430</td>\n",
       "      <td>...</td>\n",
       "      <td>-73.960803</td>\n",
       "      <td>FOSTER AV/E 18 ST</td>\n",
       "      <td>approaching</td>\n",
       "      <td>76</td>\n",
       "      <td>6/1/2017 0:03</td>\n",
       "      <td>24:06:14</td>\n",
       "      <td>NaN</td>\n",
       "      <td>2017-06-01 00:03:00</td>\n",
       "      <td>2017-06-01 23:58:02</td>\n",
       "      <td>23:55:02</td>\n",
       "    </tr>\n",
       "    <tr>\n",
       "      <th>1</th>\n",
       "      <td>6/1/2017 0:03</td>\n",
       "      <td>1</td>\n",
       "      <td>S61</td>\n",
       "      <td>ST GEORGE FERRY/S61 &amp; S91</td>\n",
       "      <td>40.643169</td>\n",
       "      <td>-74.073494</td>\n",
       "      <td>S I MALL YUKON AV</td>\n",
       "      <td>40.575935</td>\n",
       "      <td>-74.167686</td>\n",
       "      <td>NYCT_8263</td>\n",
       "      <td>...</td>\n",
       "      <td>-74.158340</td>\n",
       "      <td>MERRYMOUNT ST/TRAVIS AV</td>\n",
       "      <td>approaching</td>\n",
       "      <td>62</td>\n",
       "      <td>6/1/2017 0:03</td>\n",
       "      <td>23:58:02</td>\n",
       "      <td>NaN</td>\n",
       "      <td>2017-06-01 00:03:00</td>\n",
       "      <td>2017-06-01 23:58:02</td>\n",
       "      <td>23:55:02</td>\n",
       "    </tr>\n",
       "    <tr>\n",
       "      <th>2</th>\n",
       "      <td>6/1/2017 0:03</td>\n",
       "      <td>0</td>\n",
       "      <td>Bx10</td>\n",
       "      <td>E 206 ST/BAINBRIDGE AV</td>\n",
       "      <td>40.875008</td>\n",
       "      <td>-73.880142</td>\n",
       "      <td>RIVERDALE 263 ST</td>\n",
       "      <td>40.912376</td>\n",
       "      <td>-73.902534</td>\n",
       "      <td>NYCT_4223</td>\n",
       "      <td>...</td>\n",
       "      <td>-73.912647</td>\n",
       "      <td>HENRY HUDSON PKY E/W 235 ST</td>\n",
       "      <td>at stop</td>\n",
       "      <td>5</td>\n",
       "      <td>6/1/2017 0:03</td>\n",
       "      <td>24:00:53</td>\n",
       "      <td>NaN</td>\n",
       "      <td>2017-06-01 00:03:00</td>\n",
       "      <td>2017-06-01 23:59:38</td>\n",
       "      <td>23:56:38</td>\n",
       "    </tr>\n",
       "    <tr>\n",
       "      <th>3</th>\n",
       "      <td>6/1/2017 0:03</td>\n",
       "      <td>0</td>\n",
       "      <td>Q5</td>\n",
       "      <td>TEARDROP/LAYOVER</td>\n",
       "      <td>40.701748</td>\n",
       "      <td>-73.802399</td>\n",
       "      <td>ROSEDALE LIRR STA via MERRICK</td>\n",
       "      <td>40.666012</td>\n",
       "      <td>-73.735939</td>\n",
       "      <td>NYCT_8422</td>\n",
       "      <td>...</td>\n",
       "      <td>-73.729348</td>\n",
       "      <td>HOOK CREEK BL/SUNRISE HY</td>\n",
       "      <td>&lt; 1 stop away</td>\n",
       "      <td>267</td>\n",
       "      <td>6/1/2017 0:04</td>\n",
       "      <td>24:03:00</td>\n",
       "      <td>NaN</td>\n",
       "      <td>2017-06-01 00:04:00</td>\n",
       "      <td>2017-06-01 23:59:38</td>\n",
       "      <td>23:55:38</td>\n",
       "    </tr>\n",
       "    <tr>\n",
       "      <th>4</th>\n",
       "      <td>6/1/2017 0:03</td>\n",
       "      <td>1</td>\n",
       "      <td>Bx1</td>\n",
       "      <td>RIVERDALE AV/W 231 ST</td>\n",
       "      <td>40.881187</td>\n",
       "      <td>-73.909340</td>\n",
       "      <td>MOTT HAVEN 136 ST via CONCOURSE</td>\n",
       "      <td>40.809654</td>\n",
       "      <td>-73.928360</td>\n",
       "      <td>NYCT_4710</td>\n",
       "      <td>...</td>\n",
       "      <td>-73.893032</td>\n",
       "      <td>GRAND CONCOURSE/E 196 ST</td>\n",
       "      <td>at stop</td>\n",
       "      <td>11</td>\n",
       "      <td>6/1/2017 0:03</td>\n",
       "      <td>23:59:38</td>\n",
       "      <td>NaN</td>\n",
       "      <td>2017-06-01 00:03:00</td>\n",
       "      <td>2017-06-01 23:59:38</td>\n",
       "      <td>23:56:38</td>\n",
       "    </tr>\n",
       "  </tbody>\n",
       "</table>\n",
       "<p>5 rows × 21 columns</p>\n",
       "</div>"
      ],
      "text/plain": [
       "  RecordedAtTime  DirectionRef PublishedLineName                 OriginName  \\\n",
       "0  6/1/2017 0:03             0                B8                 4 AV/95 ST   \n",
       "1  6/1/2017 0:03             1               S61  ST GEORGE FERRY/S61 & S91   \n",
       "2  6/1/2017 0:03             0              Bx10     E 206 ST/BAINBRIDGE AV   \n",
       "3  6/1/2017 0:03             0                Q5           TEARDROP/LAYOVER   \n",
       "4  6/1/2017 0:03             1               Bx1      RIVERDALE AV/W 231 ST   \n",
       "\n",
       "   OriginLat  OriginLong                  DestinationName  DestinationLat  \\\n",
       "0  40.616104  -74.031143          BROWNSVILLE ROCKAWAY AV       40.656048   \n",
       "1  40.643169  -74.073494                S I MALL YUKON AV       40.575935   \n",
       "2  40.875008  -73.880142                 RIVERDALE 263 ST       40.912376   \n",
       "3  40.701748  -73.802399    ROSEDALE LIRR STA via MERRICK       40.666012   \n",
       "4  40.881187  -73.909340  MOTT HAVEN 136 ST via CONCOURSE       40.809654   \n",
       "\n",
       "   DestinationLong VehicleRef       ...        VehicleLocation.Longitude  \\\n",
       "0       -73.907379   NYCT_430       ...                       -73.960803   \n",
       "1       -74.167686  NYCT_8263       ...                       -74.158340   \n",
       "2       -73.902534  NYCT_4223       ...                       -73.912647   \n",
       "3       -73.735939  NYCT_8422       ...                       -73.729348   \n",
       "4       -73.928360  NYCT_4710       ...                       -73.893032   \n",
       "\n",
       "             NextStopPointName ArrivalProximityText DistanceFromStop  \\\n",
       "0            FOSTER AV/E 18 ST          approaching               76   \n",
       "1      MERRYMOUNT ST/TRAVIS AV          approaching               62   \n",
       "2  HENRY HUDSON PKY E/W 235 ST              at stop                5   \n",
       "3     HOOK CREEK BL/SUNRISE HY        < 1 stop away              267   \n",
       "4     GRAND CONCOURSE/E 196 ST              at stop               11   \n",
       "\n",
       "  ExpectedArrivalTime ScheduledArrivalTime Unnamed: 17    expected_arrival  \\\n",
       "0       6/1/2017 0:03             24:06:14         NaN 2017-06-01 00:03:00   \n",
       "1       6/1/2017 0:03             23:58:02         NaN 2017-06-01 00:03:00   \n",
       "2       6/1/2017 0:03             24:00:53         NaN 2017-06-01 00:03:00   \n",
       "3       6/1/2017 0:04             24:03:00         NaN 2017-06-01 00:04:00   \n",
       "4       6/1/2017 0:03             23:59:38         NaN 2017-06-01 00:03:00   \n",
       "\n",
       "    scheduled_arrival time_difference  \n",
       "0 2017-06-01 23:58:02        23:55:02  \n",
       "1 2017-06-01 23:58:02        23:55:02  \n",
       "2 2017-06-01 23:59:38        23:56:38  \n",
       "3 2017-06-01 23:59:38        23:55:38  \n",
       "4 2017-06-01 23:59:38        23:56:38  \n",
       "\n",
       "[5 rows x 21 columns]"
      ]
     },
     "execution_count": 16,
     "metadata": {},
     "output_type": "execute_result"
    }
   ],
   "source": [
    "df.head()"
   ]
  },
  {
   "cell_type": "code",
   "execution_count": 17,
   "metadata": {},
   "outputs": [
    {
     "data": {
      "text/plain": [
       "dtype('<m8[ns]')"
      ]
     },
     "execution_count": 17,
     "metadata": {},
     "output_type": "execute_result"
    }
   ],
   "source": [
    "df.time_difference.dtype"
   ]
  },
  {
   "cell_type": "code",
   "execution_count": 18,
   "metadata": {},
   "outputs": [
    {
     "ename": "AttributeError",
     "evalue": "'TimedeltaProperties' object has no attribute 'minute'",
     "output_type": "error",
     "traceback": [
      "\u001b[1;31m---------------------------------------------------------------------------\u001b[0m",
      "\u001b[1;31mAttributeError\u001b[0m                            Traceback (most recent call last)",
      "\u001b[1;32m<ipython-input-18-738134dba9ba>\u001b[0m in \u001b[0;36m<module>\u001b[1;34m\u001b[0m\n\u001b[1;32m----> 1\u001b[1;33m \u001b[0mdf\u001b[0m\u001b[1;33m[\u001b[0m\u001b[1;34m'delay'\u001b[0m\u001b[1;33m]\u001b[0m \u001b[1;33m=\u001b[0m \u001b[0mdf\u001b[0m\u001b[1;33m[\u001b[0m\u001b[1;34m'time_difference'\u001b[0m\u001b[1;33m]\u001b[0m\u001b[1;33m.\u001b[0m\u001b[0mdt\u001b[0m\u001b[1;33m.\u001b[0m\u001b[0mminute\u001b[0m \u001b[1;33m>\u001b[0m \u001b[1;36m5\u001b[0m\u001b[1;33m\u001b[0m\u001b[1;33m\u001b[0m\u001b[0m\n\u001b[0m",
      "\u001b[1;31mAttributeError\u001b[0m: 'TimedeltaProperties' object has no attribute 'minute'"
     ]
    }
   ],
   "source": [
    "df['delay'] = df['time_difference'].dt.minute > 5"
   ]
  },
  {
   "cell_type": "code",
   "execution_count": null,
   "metadata": {},
   "outputs": [],
   "source": [
    "#creating new feature column to indicate if a bus is on time or behind schedule\n",
    "df['hour'] = df['ExpectedArrivalTime'].dt.hour\n",
    "df['minute'] = df['ExpectedArrivalTime'].dt.minute"
   ]
  },
  {
   "cell_type": "code",
   "execution_count": null,
   "metadata": {},
   "outputs": [],
   "source": []
  },
  {
   "cell_type": "code",
   "execution_count": null,
   "metadata": {},
   "outputs": [],
   "source": [
    "#an unconventional way to check for the null, nan, or NaT value in scheduled_arrival\n",
    "#df['checkNaN'] = df['scheduled_arrival'].isnull()\n",
    "#print(np.where(df['checkNaN'] == True)) "
   ]
  }
 ],
 "metadata": {
  "kernelspec": {
   "display_name": "Python 3",
   "language": "python",
   "name": "python3"
  },
  "language_info": {
   "codemirror_mode": {
    "name": "ipython",
    "version": 3
   },
   "file_extension": ".py",
   "mimetype": "text/x-python",
   "name": "python",
   "nbconvert_exporter": "python",
   "pygments_lexer": "ipython3",
   "version": "3.7.1"
  }
 },
 "nbformat": 4,
 "nbformat_minor": 2
}
